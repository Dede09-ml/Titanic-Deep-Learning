{
  "nbformat": 4,
  "nbformat_minor": 0,
  "metadata": {
    "colab": {
      "name": "TTitanic_bonus.ipynb",
      "provenance": []
    },
    "kernelspec": {
      "name": "python3",
      "display_name": "Python 3"
    }
  },
  "cells": [
    {
      "cell_type": "code",
      "metadata": {
        "id": "gNJGDeNRD2cI"
      },
      "source": [
        "import os\n",
        "import pandas as pd\n",
        "import numpy as np\n",
        "import matplotlib.pyplot as plt\n",
        "import seaborn as sns"
      ],
      "execution_count": null,
      "outputs": []
    },
    {
      "cell_type": "markdown",
      "metadata": {
        "id": "x8U2h5j0Ngea"
      },
      "source": [
        "untuk data train"
      ]
    },
    {
      "cell_type": "code",
      "metadata": {
        "id": "akVbK4kcEKmm"
      },
      "source": [
        "dataset_train = pd.read_csv('/content/drive/My Drive/Dataset/DataQuiz/titanic_train.csv')\n",
        "dataset_test = pd.read_csv('/content/drive/My Drive/Dataset/DataQuiz/titanic_eval.csv')\n"
      ],
      "execution_count": null,
      "outputs": []
    },
    {
      "cell_type": "code",
      "metadata": {
        "id": "gqyGWqFSN9jq",
        "outputId": "29b05b27-7b18-4c88-d97a-e3e308d45d5c",
        "colab": {
          "base_uri": "https://localhost:8080/",
          "height": 202
        }
      },
      "source": [
        "dataset_train.head()"
      ],
      "execution_count": null,
      "outputs": [
        {
          "output_type": "execute_result",
          "data": {
            "text/html": [
              "<div>\n",
              "<style scoped>\n",
              "    .dataframe tbody tr th:only-of-type {\n",
              "        vertical-align: middle;\n",
              "    }\n",
              "\n",
              "    .dataframe tbody tr th {\n",
              "        vertical-align: top;\n",
              "    }\n",
              "\n",
              "    .dataframe thead th {\n",
              "        text-align: right;\n",
              "    }\n",
              "</style>\n",
              "<table border=\"1\" class=\"dataframe\">\n",
              "  <thead>\n",
              "    <tr style=\"text-align: right;\">\n",
              "      <th></th>\n",
              "      <th>survived</th>\n",
              "      <th>sex</th>\n",
              "      <th>age</th>\n",
              "      <th>n_siblings_spouses</th>\n",
              "      <th>parch</th>\n",
              "      <th>fare</th>\n",
              "      <th>class</th>\n",
              "      <th>deck</th>\n",
              "      <th>embark_town</th>\n",
              "      <th>alone</th>\n",
              "    </tr>\n",
              "  </thead>\n",
              "  <tbody>\n",
              "    <tr>\n",
              "      <th>0</th>\n",
              "      <td>0</td>\n",
              "      <td>male</td>\n",
              "      <td>22.0</td>\n",
              "      <td>1</td>\n",
              "      <td>0</td>\n",
              "      <td>7.2500</td>\n",
              "      <td>Third</td>\n",
              "      <td>unknown</td>\n",
              "      <td>Southampton</td>\n",
              "      <td>n</td>\n",
              "    </tr>\n",
              "    <tr>\n",
              "      <th>1</th>\n",
              "      <td>1</td>\n",
              "      <td>female</td>\n",
              "      <td>38.0</td>\n",
              "      <td>1</td>\n",
              "      <td>0</td>\n",
              "      <td>71.2833</td>\n",
              "      <td>First</td>\n",
              "      <td>C</td>\n",
              "      <td>Cherbourg</td>\n",
              "      <td>n</td>\n",
              "    </tr>\n",
              "    <tr>\n",
              "      <th>2</th>\n",
              "      <td>1</td>\n",
              "      <td>female</td>\n",
              "      <td>26.0</td>\n",
              "      <td>0</td>\n",
              "      <td>0</td>\n",
              "      <td>7.9250</td>\n",
              "      <td>Third</td>\n",
              "      <td>unknown</td>\n",
              "      <td>Southampton</td>\n",
              "      <td>y</td>\n",
              "    </tr>\n",
              "    <tr>\n",
              "      <th>3</th>\n",
              "      <td>1</td>\n",
              "      <td>female</td>\n",
              "      <td>35.0</td>\n",
              "      <td>1</td>\n",
              "      <td>0</td>\n",
              "      <td>53.1000</td>\n",
              "      <td>First</td>\n",
              "      <td>C</td>\n",
              "      <td>Southampton</td>\n",
              "      <td>n</td>\n",
              "    </tr>\n",
              "    <tr>\n",
              "      <th>4</th>\n",
              "      <td>0</td>\n",
              "      <td>male</td>\n",
              "      <td>28.0</td>\n",
              "      <td>0</td>\n",
              "      <td>0</td>\n",
              "      <td>8.4583</td>\n",
              "      <td>Third</td>\n",
              "      <td>unknown</td>\n",
              "      <td>Queenstown</td>\n",
              "      <td>y</td>\n",
              "    </tr>\n",
              "  </tbody>\n",
              "</table>\n",
              "</div>"
            ],
            "text/plain": [
              "   survived     sex   age  ...     deck  embark_town  alone\n",
              "0         0    male  22.0  ...  unknown  Southampton      n\n",
              "1         1  female  38.0  ...        C    Cherbourg      n\n",
              "2         1  female  26.0  ...  unknown  Southampton      y\n",
              "3         1  female  35.0  ...        C  Southampton      n\n",
              "4         0    male  28.0  ...  unknown   Queenstown      y\n",
              "\n",
              "[5 rows x 10 columns]"
            ]
          },
          "metadata": {
            "tags": []
          },
          "execution_count": 5
        }
      ]
    },
    {
      "cell_type": "code",
      "metadata": {
        "id": "YVq5_HHqOAdT",
        "outputId": "d36c3b75-9338-41e5-9509-ed701592dceb",
        "colab": {
          "base_uri": "https://localhost:8080/",
          "height": 202
        }
      },
      "source": [
        "dataset_test.head()"
      ],
      "execution_count": null,
      "outputs": [
        {
          "output_type": "execute_result",
          "data": {
            "text/html": [
              "<div>\n",
              "<style scoped>\n",
              "    .dataframe tbody tr th:only-of-type {\n",
              "        vertical-align: middle;\n",
              "    }\n",
              "\n",
              "    .dataframe tbody tr th {\n",
              "        vertical-align: top;\n",
              "    }\n",
              "\n",
              "    .dataframe thead th {\n",
              "        text-align: right;\n",
              "    }\n",
              "</style>\n",
              "<table border=\"1\" class=\"dataframe\">\n",
              "  <thead>\n",
              "    <tr style=\"text-align: right;\">\n",
              "      <th></th>\n",
              "      <th>survived</th>\n",
              "      <th>sex</th>\n",
              "      <th>age</th>\n",
              "      <th>n_siblings_spouses</th>\n",
              "      <th>parch</th>\n",
              "      <th>fare</th>\n",
              "      <th>class</th>\n",
              "      <th>deck</th>\n",
              "      <th>embark_town</th>\n",
              "      <th>alone</th>\n",
              "    </tr>\n",
              "  </thead>\n",
              "  <tbody>\n",
              "    <tr>\n",
              "      <th>0</th>\n",
              "      <td>0</td>\n",
              "      <td>male</td>\n",
              "      <td>35.0</td>\n",
              "      <td>0</td>\n",
              "      <td>0</td>\n",
              "      <td>8.0500</td>\n",
              "      <td>Third</td>\n",
              "      <td>unknown</td>\n",
              "      <td>Southampton</td>\n",
              "      <td>y</td>\n",
              "    </tr>\n",
              "    <tr>\n",
              "      <th>1</th>\n",
              "      <td>0</td>\n",
              "      <td>male</td>\n",
              "      <td>54.0</td>\n",
              "      <td>0</td>\n",
              "      <td>0</td>\n",
              "      <td>51.8625</td>\n",
              "      <td>First</td>\n",
              "      <td>E</td>\n",
              "      <td>Southampton</td>\n",
              "      <td>y</td>\n",
              "    </tr>\n",
              "    <tr>\n",
              "      <th>2</th>\n",
              "      <td>1</td>\n",
              "      <td>female</td>\n",
              "      <td>58.0</td>\n",
              "      <td>0</td>\n",
              "      <td>0</td>\n",
              "      <td>26.5500</td>\n",
              "      <td>First</td>\n",
              "      <td>C</td>\n",
              "      <td>Southampton</td>\n",
              "      <td>y</td>\n",
              "    </tr>\n",
              "    <tr>\n",
              "      <th>3</th>\n",
              "      <td>1</td>\n",
              "      <td>female</td>\n",
              "      <td>55.0</td>\n",
              "      <td>0</td>\n",
              "      <td>0</td>\n",
              "      <td>16.0000</td>\n",
              "      <td>Second</td>\n",
              "      <td>unknown</td>\n",
              "      <td>Southampton</td>\n",
              "      <td>y</td>\n",
              "    </tr>\n",
              "    <tr>\n",
              "      <th>4</th>\n",
              "      <td>1</td>\n",
              "      <td>male</td>\n",
              "      <td>34.0</td>\n",
              "      <td>0</td>\n",
              "      <td>0</td>\n",
              "      <td>13.0000</td>\n",
              "      <td>Second</td>\n",
              "      <td>D</td>\n",
              "      <td>Southampton</td>\n",
              "      <td>y</td>\n",
              "    </tr>\n",
              "  </tbody>\n",
              "</table>\n",
              "</div>"
            ],
            "text/plain": [
              "   survived     sex   age  ...     deck  embark_town  alone\n",
              "0         0    male  35.0  ...  unknown  Southampton      y\n",
              "1         0    male  54.0  ...        E  Southampton      y\n",
              "2         1  female  58.0  ...        C  Southampton      y\n",
              "3         1  female  55.0  ...  unknown  Southampton      y\n",
              "4         1    male  34.0  ...        D  Southampton      y\n",
              "\n",
              "[5 rows x 10 columns]"
            ]
          },
          "metadata": {
            "tags": []
          },
          "execution_count": 6
        }
      ]
    },
    {
      "cell_type": "code",
      "metadata": {
        "id": "ioeC1KENEKl-"
      },
      "source": [
        "#dataCleaning\n",
        "#replace nilai ? dengan none\n",
        "dataset_train.replace(\"?\", np.nan, inplace=True)\n",
        "dataset_test.replace(\"?\", np.nan, inplace=True)\n"
      ],
      "execution_count": null,
      "outputs": []
    },
    {
      "cell_type": "code",
      "metadata": {
        "id": "E15_59RIEhPt",
        "outputId": "a27016d4-485c-40fd-9d3f-1a5b5c2a4417",
        "colab": {
          "base_uri": "https://localhost:8080/",
          "height": 208
        }
      },
      "source": [
        "#Cek apakah ada nilai null\n",
        "dataset_train.isnull().sum().sort_values()"
      ],
      "execution_count": null,
      "outputs": [
        {
          "output_type": "execute_result",
          "data": {
            "text/plain": [
              "survived              0\n",
              "sex                   0\n",
              "age                   0\n",
              "n_siblings_spouses    0\n",
              "parch                 0\n",
              "fare                  0\n",
              "class                 0\n",
              "deck                  0\n",
              "embark_town           0\n",
              "alone                 0\n",
              "dtype: int64"
            ]
          },
          "metadata": {
            "tags": []
          },
          "execution_count": 8
        }
      ]
    },
    {
      "cell_type": "code",
      "metadata": {
        "id": "wTDmy2g9OY2c",
        "outputId": "a2128265-dbc7-42c5-f5d8-e085e22b33bc",
        "colab": {
          "base_uri": "https://localhost:8080/",
          "height": 208
        }
      },
      "source": [
        "#Cek apakah ada nilai null\n",
        "dataset_test.isnull().sum().sort_values()"
      ],
      "execution_count": null,
      "outputs": [
        {
          "output_type": "execute_result",
          "data": {
            "text/plain": [
              "survived              0\n",
              "sex                   0\n",
              "age                   0\n",
              "n_siblings_spouses    0\n",
              "parch                 0\n",
              "fare                  0\n",
              "class                 0\n",
              "deck                  0\n",
              "embark_town           0\n",
              "alone                 0\n",
              "dtype: int64"
            ]
          },
          "metadata": {
            "tags": []
          },
          "execution_count": 9
        }
      ]
    },
    {
      "cell_type": "code",
      "metadata": {
        "id": "lWi0pYmkE0Y9",
        "outputId": "7c91065c-e05f-4daf-8c84-4893134ba55f",
        "colab": {
          "base_uri": "https://localhost:8080/",
          "height": 312
        }
      },
      "source": [
        "#cek info dari setiap feature\n",
        "dataset_train.info()"
      ],
      "execution_count": null,
      "outputs": [
        {
          "output_type": "stream",
          "text": [
            "<class 'pandas.core.frame.DataFrame'>\n",
            "RangeIndex: 627 entries, 0 to 626\n",
            "Data columns (total 10 columns):\n",
            " #   Column              Non-Null Count  Dtype  \n",
            "---  ------              --------------  -----  \n",
            " 0   survived            627 non-null    int64  \n",
            " 1   sex                 627 non-null    object \n",
            " 2   age                 627 non-null    float64\n",
            " 3   n_siblings_spouses  627 non-null    int64  \n",
            " 4   parch               627 non-null    int64  \n",
            " 5   fare                627 non-null    float64\n",
            " 6   class               627 non-null    object \n",
            " 7   deck                627 non-null    object \n",
            " 8   embark_town         627 non-null    object \n",
            " 9   alone               627 non-null    object \n",
            "dtypes: float64(2), int64(3), object(5)\n",
            "memory usage: 49.1+ KB\n"
          ],
          "name": "stdout"
        }
      ]
    },
    {
      "cell_type": "code",
      "metadata": {
        "id": "hj5sy9YWFh7t",
        "outputId": "c7e75c25-6475-4358-e476-9eb93654220d",
        "colab": {
          "base_uri": "https://localhost:8080/",
          "height": 86
        }
      },
      "source": [
        "#tinggal num of doors dan price\n",
        "dataset_train['class'].value_counts()"
      ],
      "execution_count": null,
      "outputs": [
        {
          "output_type": "execute_result",
          "data": {
            "text/plain": [
              "Third     341\n",
              "First     159\n",
              "Second    127\n",
              "Name: class, dtype: int64"
            ]
          },
          "metadata": {
            "tags": []
          },
          "execution_count": 11
        }
      ]
    },
    {
      "cell_type": "code",
      "metadata": {
        "id": "LHzlHpiGFrFN",
        "outputId": "4ca2e889-0edc-4612-dd40-0592336ac41c",
        "colab": {
          "base_uri": "https://localhost:8080/",
          "height": 173
        }
      },
      "source": [
        "dataset_train['deck'].value_counts()"
      ],
      "execution_count": null,
      "outputs": [
        {
          "output_type": "execute_result",
          "data": {
            "text/plain": [
              "unknown    481\n",
              "C           43\n",
              "B           37\n",
              "E           23\n",
              "D           22\n",
              "A           11\n",
              "F            6\n",
              "G            4\n",
              "Name: deck, dtype: int64"
            ]
          },
          "metadata": {
            "tags": []
          },
          "execution_count": 12
        }
      ]
    },
    {
      "cell_type": "code",
      "metadata": {
        "id": "zUgBvtXVF37M",
        "outputId": "d437ea3e-1079-4a22-9e39-85cfd7184246",
        "colab": {
          "base_uri": "https://localhost:8080/",
          "height": 69
        }
      },
      "source": [
        "dataset_train['alone'].value_counts()"
      ],
      "execution_count": null,
      "outputs": [
        {
          "output_type": "execute_result",
          "data": {
            "text/plain": [
              "y    372\n",
              "n    255\n",
              "Name: alone, dtype: int64"
            ]
          },
          "metadata": {
            "tags": []
          },
          "execution_count": 13
        }
      ]
    },
    {
      "cell_type": "code",
      "metadata": {
        "id": "tytUeVSqFwfc",
        "outputId": "6a9d252d-de59-4f2f-bb3f-91fedaeae3a5",
        "colab": {
          "base_uri": "https://localhost:8080/",
          "height": 104
        }
      },
      "source": [
        "dataset_train['embark_town'].value_counts()"
      ],
      "execution_count": null,
      "outputs": [
        {
          "output_type": "execute_result",
          "data": {
            "text/plain": [
              "Southampton    450\n",
              "Cherbourg      123\n",
              "Queenstown      53\n",
              "unknown          1\n",
              "Name: embark_town, dtype: int64"
            ]
          },
          "metadata": {
            "tags": []
          },
          "execution_count": 14
        }
      ]
    },
    {
      "cell_type": "code",
      "metadata": {
        "id": "PakQQ5r5FNdf",
        "outputId": "a7b477c2-706c-4947-df9a-2ef7d07603b5",
        "colab": {
          "base_uri": "https://localhost:8080/",
          "height": 202
        }
      },
      "source": [
        "cleanup_nums = {\n",
        "    'class' : {\n",
        "        'First' : 1,\n",
        "        'Second' : 2,\n",
        "        'Third' : 3\n",
        "    },\n",
        "    'alone' : {\n",
        "        'y' : 1,\n",
        "        'n' : 0\n",
        "    },\n",
        "    'deck' : {\n",
        "        'A' : 1,\n",
        "        'B' : 2,\n",
        "        'C' : 3,\n",
        "        'D' : 4,\n",
        "        'E' : 5,\n",
        "        'F' : 6,\n",
        "        'G' : 7,\n",
        "        'unknown' : 0\n",
        "    },\n",
        "    'sex' : {\n",
        "        'male' : 1,\n",
        "        'female' : 0\n",
        "    }\n",
        "}\n",
        "\n",
        "dataset_train.replace(cleanup_nums, inplace=True)\n",
        "dataset_test.replace(cleanup_nums, inplace=True)\n",
        "dataset_train.head()"
      ],
      "execution_count": null,
      "outputs": [
        {
          "output_type": "execute_result",
          "data": {
            "text/html": [
              "<div>\n",
              "<style scoped>\n",
              "    .dataframe tbody tr th:only-of-type {\n",
              "        vertical-align: middle;\n",
              "    }\n",
              "\n",
              "    .dataframe tbody tr th {\n",
              "        vertical-align: top;\n",
              "    }\n",
              "\n",
              "    .dataframe thead th {\n",
              "        text-align: right;\n",
              "    }\n",
              "</style>\n",
              "<table border=\"1\" class=\"dataframe\">\n",
              "  <thead>\n",
              "    <tr style=\"text-align: right;\">\n",
              "      <th></th>\n",
              "      <th>survived</th>\n",
              "      <th>sex</th>\n",
              "      <th>age</th>\n",
              "      <th>n_siblings_spouses</th>\n",
              "      <th>parch</th>\n",
              "      <th>fare</th>\n",
              "      <th>class</th>\n",
              "      <th>deck</th>\n",
              "      <th>embark_town</th>\n",
              "      <th>alone</th>\n",
              "    </tr>\n",
              "  </thead>\n",
              "  <tbody>\n",
              "    <tr>\n",
              "      <th>0</th>\n",
              "      <td>0</td>\n",
              "      <td>1</td>\n",
              "      <td>22.0</td>\n",
              "      <td>1</td>\n",
              "      <td>0</td>\n",
              "      <td>7.2500</td>\n",
              "      <td>3</td>\n",
              "      <td>0</td>\n",
              "      <td>Southampton</td>\n",
              "      <td>0</td>\n",
              "    </tr>\n",
              "    <tr>\n",
              "      <th>1</th>\n",
              "      <td>1</td>\n",
              "      <td>0</td>\n",
              "      <td>38.0</td>\n",
              "      <td>1</td>\n",
              "      <td>0</td>\n",
              "      <td>71.2833</td>\n",
              "      <td>1</td>\n",
              "      <td>3</td>\n",
              "      <td>Cherbourg</td>\n",
              "      <td>0</td>\n",
              "    </tr>\n",
              "    <tr>\n",
              "      <th>2</th>\n",
              "      <td>1</td>\n",
              "      <td>0</td>\n",
              "      <td>26.0</td>\n",
              "      <td>0</td>\n",
              "      <td>0</td>\n",
              "      <td>7.9250</td>\n",
              "      <td>3</td>\n",
              "      <td>0</td>\n",
              "      <td>Southampton</td>\n",
              "      <td>1</td>\n",
              "    </tr>\n",
              "    <tr>\n",
              "      <th>3</th>\n",
              "      <td>1</td>\n",
              "      <td>0</td>\n",
              "      <td>35.0</td>\n",
              "      <td>1</td>\n",
              "      <td>0</td>\n",
              "      <td>53.1000</td>\n",
              "      <td>1</td>\n",
              "      <td>3</td>\n",
              "      <td>Southampton</td>\n",
              "      <td>0</td>\n",
              "    </tr>\n",
              "    <tr>\n",
              "      <th>4</th>\n",
              "      <td>0</td>\n",
              "      <td>1</td>\n",
              "      <td>28.0</td>\n",
              "      <td>0</td>\n",
              "      <td>0</td>\n",
              "      <td>8.4583</td>\n",
              "      <td>3</td>\n",
              "      <td>0</td>\n",
              "      <td>Queenstown</td>\n",
              "      <td>1</td>\n",
              "    </tr>\n",
              "  </tbody>\n",
              "</table>\n",
              "</div>"
            ],
            "text/plain": [
              "   survived  sex   age  n_siblings_spouses  ...  class  deck  embark_town  alone\n",
              "0         0    1  22.0                   1  ...      3     0  Southampton      0\n",
              "1         1    0  38.0                   1  ...      1     3    Cherbourg      0\n",
              "2         1    0  26.0                   0  ...      3     0  Southampton      1\n",
              "3         1    0  35.0                   1  ...      1     3  Southampton      0\n",
              "4         0    1  28.0                   0  ...      3     0   Queenstown      1\n",
              "\n",
              "[5 rows x 10 columns]"
            ]
          },
          "metadata": {
            "tags": []
          },
          "execution_count": 15
        }
      ]
    },
    {
      "cell_type": "code",
      "metadata": {
        "id": "mXiU6OecNXXT",
        "outputId": "267a4e26-7d2e-411a-8181-0c0eb916e124",
        "colab": {
          "base_uri": "https://localhost:8080/",
          "height": 202
        }
      },
      "source": [
        "dataset_train.drop(['deck'], axis=1, inplace=True)\n",
        "dataset_test.drop(['deck'], axis=1, inplace=True)\n",
        "dataset_train.head()"
      ],
      "execution_count": null,
      "outputs": [
        {
          "output_type": "execute_result",
          "data": {
            "text/html": [
              "<div>\n",
              "<style scoped>\n",
              "    .dataframe tbody tr th:only-of-type {\n",
              "        vertical-align: middle;\n",
              "    }\n",
              "\n",
              "    .dataframe tbody tr th {\n",
              "        vertical-align: top;\n",
              "    }\n",
              "\n",
              "    .dataframe thead th {\n",
              "        text-align: right;\n",
              "    }\n",
              "</style>\n",
              "<table border=\"1\" class=\"dataframe\">\n",
              "  <thead>\n",
              "    <tr style=\"text-align: right;\">\n",
              "      <th></th>\n",
              "      <th>survived</th>\n",
              "      <th>sex</th>\n",
              "      <th>age</th>\n",
              "      <th>n_siblings_spouses</th>\n",
              "      <th>parch</th>\n",
              "      <th>fare</th>\n",
              "      <th>class</th>\n",
              "      <th>embark_town</th>\n",
              "      <th>alone</th>\n",
              "    </tr>\n",
              "  </thead>\n",
              "  <tbody>\n",
              "    <tr>\n",
              "      <th>0</th>\n",
              "      <td>0</td>\n",
              "      <td>1</td>\n",
              "      <td>22.0</td>\n",
              "      <td>1</td>\n",
              "      <td>0</td>\n",
              "      <td>7.2500</td>\n",
              "      <td>3</td>\n",
              "      <td>Southampton</td>\n",
              "      <td>0</td>\n",
              "    </tr>\n",
              "    <tr>\n",
              "      <th>1</th>\n",
              "      <td>1</td>\n",
              "      <td>0</td>\n",
              "      <td>38.0</td>\n",
              "      <td>1</td>\n",
              "      <td>0</td>\n",
              "      <td>71.2833</td>\n",
              "      <td>1</td>\n",
              "      <td>Cherbourg</td>\n",
              "      <td>0</td>\n",
              "    </tr>\n",
              "    <tr>\n",
              "      <th>2</th>\n",
              "      <td>1</td>\n",
              "      <td>0</td>\n",
              "      <td>26.0</td>\n",
              "      <td>0</td>\n",
              "      <td>0</td>\n",
              "      <td>7.9250</td>\n",
              "      <td>3</td>\n",
              "      <td>Southampton</td>\n",
              "      <td>1</td>\n",
              "    </tr>\n",
              "    <tr>\n",
              "      <th>3</th>\n",
              "      <td>1</td>\n",
              "      <td>0</td>\n",
              "      <td>35.0</td>\n",
              "      <td>1</td>\n",
              "      <td>0</td>\n",
              "      <td>53.1000</td>\n",
              "      <td>1</td>\n",
              "      <td>Southampton</td>\n",
              "      <td>0</td>\n",
              "    </tr>\n",
              "    <tr>\n",
              "      <th>4</th>\n",
              "      <td>0</td>\n",
              "      <td>1</td>\n",
              "      <td>28.0</td>\n",
              "      <td>0</td>\n",
              "      <td>0</td>\n",
              "      <td>8.4583</td>\n",
              "      <td>3</td>\n",
              "      <td>Queenstown</td>\n",
              "      <td>1</td>\n",
              "    </tr>\n",
              "  </tbody>\n",
              "</table>\n",
              "</div>"
            ],
            "text/plain": [
              "   survived  sex   age  n_siblings_spouses  ...     fare  class  embark_town alone\n",
              "0         0    1  22.0                   1  ...   7.2500      3  Southampton     0\n",
              "1         1    0  38.0                   1  ...  71.2833      1    Cherbourg     0\n",
              "2         1    0  26.0                   0  ...   7.9250      3  Southampton     1\n",
              "3         1    0  35.0                   1  ...  53.1000      1  Southampton     0\n",
              "4         0    1  28.0                   0  ...   8.4583      3   Queenstown     1\n",
              "\n",
              "[5 rows x 9 columns]"
            ]
          },
          "metadata": {
            "tags": []
          },
          "execution_count": 16
        }
      ]
    },
    {
      "cell_type": "code",
      "metadata": {
        "id": "EUKKg2uDXjRv",
        "outputId": "e937e998-ab20-4b32-e67a-c9106a7cb519",
        "colab": {
          "base_uri": "https://localhost:8080/",
          "height": 202
        }
      },
      "source": [
        "dataset_test.head()"
      ],
      "execution_count": null,
      "outputs": [
        {
          "output_type": "execute_result",
          "data": {
            "text/html": [
              "<div>\n",
              "<style scoped>\n",
              "    .dataframe tbody tr th:only-of-type {\n",
              "        vertical-align: middle;\n",
              "    }\n",
              "\n",
              "    .dataframe tbody tr th {\n",
              "        vertical-align: top;\n",
              "    }\n",
              "\n",
              "    .dataframe thead th {\n",
              "        text-align: right;\n",
              "    }\n",
              "</style>\n",
              "<table border=\"1\" class=\"dataframe\">\n",
              "  <thead>\n",
              "    <tr style=\"text-align: right;\">\n",
              "      <th></th>\n",
              "      <th>survived</th>\n",
              "      <th>sex</th>\n",
              "      <th>age</th>\n",
              "      <th>n_siblings_spouses</th>\n",
              "      <th>parch</th>\n",
              "      <th>fare</th>\n",
              "      <th>class</th>\n",
              "      <th>embark_town</th>\n",
              "      <th>alone</th>\n",
              "    </tr>\n",
              "  </thead>\n",
              "  <tbody>\n",
              "    <tr>\n",
              "      <th>0</th>\n",
              "      <td>0</td>\n",
              "      <td>1</td>\n",
              "      <td>35.0</td>\n",
              "      <td>0</td>\n",
              "      <td>0</td>\n",
              "      <td>8.0500</td>\n",
              "      <td>3</td>\n",
              "      <td>Southampton</td>\n",
              "      <td>1</td>\n",
              "    </tr>\n",
              "    <tr>\n",
              "      <th>1</th>\n",
              "      <td>0</td>\n",
              "      <td>1</td>\n",
              "      <td>54.0</td>\n",
              "      <td>0</td>\n",
              "      <td>0</td>\n",
              "      <td>51.8625</td>\n",
              "      <td>1</td>\n",
              "      <td>Southampton</td>\n",
              "      <td>1</td>\n",
              "    </tr>\n",
              "    <tr>\n",
              "      <th>2</th>\n",
              "      <td>1</td>\n",
              "      <td>0</td>\n",
              "      <td>58.0</td>\n",
              "      <td>0</td>\n",
              "      <td>0</td>\n",
              "      <td>26.5500</td>\n",
              "      <td>1</td>\n",
              "      <td>Southampton</td>\n",
              "      <td>1</td>\n",
              "    </tr>\n",
              "    <tr>\n",
              "      <th>3</th>\n",
              "      <td>1</td>\n",
              "      <td>0</td>\n",
              "      <td>55.0</td>\n",
              "      <td>0</td>\n",
              "      <td>0</td>\n",
              "      <td>16.0000</td>\n",
              "      <td>2</td>\n",
              "      <td>Southampton</td>\n",
              "      <td>1</td>\n",
              "    </tr>\n",
              "    <tr>\n",
              "      <th>4</th>\n",
              "      <td>1</td>\n",
              "      <td>1</td>\n",
              "      <td>34.0</td>\n",
              "      <td>0</td>\n",
              "      <td>0</td>\n",
              "      <td>13.0000</td>\n",
              "      <td>2</td>\n",
              "      <td>Southampton</td>\n",
              "      <td>1</td>\n",
              "    </tr>\n",
              "  </tbody>\n",
              "</table>\n",
              "</div>"
            ],
            "text/plain": [
              "   survived  sex   age  n_siblings_spouses  ...     fare  class  embark_town alone\n",
              "0         0    1  35.0                   0  ...   8.0500      3  Southampton     1\n",
              "1         0    1  54.0                   0  ...  51.8625      1  Southampton     1\n",
              "2         1    0  58.0                   0  ...  26.5500      1  Southampton     1\n",
              "3         1    0  55.0                   0  ...  16.0000      2  Southampton     1\n",
              "4         1    1  34.0                   0  ...  13.0000      2  Southampton     1\n",
              "\n",
              "[5 rows x 9 columns]"
            ]
          },
          "metadata": {
            "tags": []
          },
          "execution_count": 17
        }
      ]
    },
    {
      "cell_type": "code",
      "metadata": {
        "id": "5IoDrdWVOywp"
      },
      "source": [
        "label_train = dataset_train['survived']\n",
        "feature_train = dataset_train.drop(['survived','embark_town'], axis=1)"
      ],
      "execution_count": null,
      "outputs": []
    },
    {
      "cell_type": "code",
      "metadata": {
        "id": "00mYcd6AXiiD"
      },
      "source": [
        "label_test = dataset_test['survived']\n",
        "feature_test = dataset_test.drop(['survived', 'embark_town'], axis=1)"
      ],
      "execution_count": null,
      "outputs": []
    },
    {
      "cell_type": "code",
      "metadata": {
        "id": "0aZleFuU7ZJ_"
      },
      "source": [
        "from sklearn.preprocessing import LabelEncoder\n",
        "# encode class values as integers\n",
        "encoder = LabelEncoder()\n",
        "encoder.fit(label_train)\n",
        "label_train = encoder.transform(label_train)\n",
        "\n",
        "encoder.fit(label_test)\n",
        "label_test = encoder.transform(label_test)"
      ],
      "execution_count": 25,
      "outputs": []
    },
    {
      "cell_type": "markdown",
      "metadata": {
        "id": "drwa1o-DZRd3"
      },
      "source": [
        "Deep Learning"
      ]
    },
    {
      "cell_type": "code",
      "metadata": {
        "id": "1G_jk9n5ZPTH",
        "outputId": "5cecd5e2-f2df-4000-9870-a764cbf1e1ab",
        "colab": {
          "base_uri": "https://localhost:8080/",
          "height": 1000
        }
      },
      "source": [
        "from tensorflow.keras.models import Sequential\n",
        "from tensorflow.keras.layers import Dense\n",
        "from tensorflow.keras.layers import Flatten\n",
        "from tensorflow.keras.optimizers import SGD\n",
        "\n",
        "model = Sequential()\n",
        "model.add(Dense(13, input_dim=7, kernel_initializer='normal', activation='relu')) # 13 neuron, sesuai dengan 7 features\n",
        "model.add(Dense(1, activation='sigmoid'))\n",
        "\n",
        "opt = SGD(lr=0.01, momentum=0.9)\n",
        "model.compile(loss='binary_crossentropy', optimizer=opt, metrics=[ 'accuracy' ])\n",
        "\n",
        "model.fit(x=feature_train, y=label_train, validation_data=(feature_test, label_test), epochs=50, batch_size=8, verbose=2)"
      ],
      "execution_count": 29,
      "outputs": [
        {
          "output_type": "stream",
          "text": [
            "Epoch 1/50\n",
            "79/79 - 0s - loss: 0.5806 - accuracy: 0.7416 - val_loss: 0.4962 - val_accuracy: 0.7538\n",
            "Epoch 2/50\n",
            "79/79 - 0s - loss: 0.4429 - accuracy: 0.8086 - val_loss: 0.4669 - val_accuracy: 0.7803\n",
            "Epoch 3/50\n",
            "79/79 - 0s - loss: 0.4255 - accuracy: 0.8150 - val_loss: 0.4669 - val_accuracy: 0.7841\n",
            "Epoch 4/50\n",
            "79/79 - 0s - loss: 0.4219 - accuracy: 0.8214 - val_loss: 0.4548 - val_accuracy: 0.7803\n",
            "Epoch 5/50\n",
            "79/79 - 0s - loss: 0.4184 - accuracy: 0.8214 - val_loss: 0.4510 - val_accuracy: 0.7841\n",
            "Epoch 6/50\n",
            "79/79 - 0s - loss: 0.4174 - accuracy: 0.8166 - val_loss: 0.4484 - val_accuracy: 0.7841\n",
            "Epoch 7/50\n",
            "79/79 - 0s - loss: 0.4142 - accuracy: 0.8182 - val_loss: 0.4437 - val_accuracy: 0.7841\n",
            "Epoch 8/50\n",
            "79/79 - 0s - loss: 0.4151 - accuracy: 0.8150 - val_loss: 0.4479 - val_accuracy: 0.7803\n",
            "Epoch 9/50\n",
            "79/79 - 0s - loss: 0.4106 - accuracy: 0.8309 - val_loss: 0.4385 - val_accuracy: 0.7992\n",
            "Epoch 10/50\n",
            "79/79 - 0s - loss: 0.4087 - accuracy: 0.8262 - val_loss: 0.4392 - val_accuracy: 0.7879\n",
            "Epoch 11/50\n",
            "79/79 - 0s - loss: 0.4075 - accuracy: 0.8325 - val_loss: 0.4412 - val_accuracy: 0.8030\n",
            "Epoch 12/50\n",
            "79/79 - 0s - loss: 0.4061 - accuracy: 0.8278 - val_loss: 0.4389 - val_accuracy: 0.8068\n",
            "Epoch 13/50\n",
            "79/79 - 0s - loss: 0.4089 - accuracy: 0.8357 - val_loss: 0.4354 - val_accuracy: 0.8106\n",
            "Epoch 14/50\n",
            "79/79 - 0s - loss: 0.4051 - accuracy: 0.8341 - val_loss: 0.4425 - val_accuracy: 0.8030\n",
            "Epoch 15/50\n",
            "79/79 - 0s - loss: 0.4067 - accuracy: 0.8293 - val_loss: 0.4319 - val_accuracy: 0.7992\n",
            "Epoch 16/50\n",
            "79/79 - 0s - loss: 0.4052 - accuracy: 0.8341 - val_loss: 0.4378 - val_accuracy: 0.7992\n",
            "Epoch 17/50\n",
            "79/79 - 0s - loss: 0.4105 - accuracy: 0.8293 - val_loss: 0.4390 - val_accuracy: 0.7727\n",
            "Epoch 18/50\n",
            "79/79 - 0s - loss: 0.4024 - accuracy: 0.8341 - val_loss: 0.4313 - val_accuracy: 0.8030\n",
            "Epoch 19/50\n",
            "79/79 - 0s - loss: 0.4057 - accuracy: 0.8389 - val_loss: 0.4345 - val_accuracy: 0.8068\n",
            "Epoch 20/50\n",
            "79/79 - 0s - loss: 0.4035 - accuracy: 0.8293 - val_loss: 0.4310 - val_accuracy: 0.7917\n",
            "Epoch 21/50\n",
            "79/79 - 0s - loss: 0.3994 - accuracy: 0.8405 - val_loss: 0.4277 - val_accuracy: 0.8106\n",
            "Epoch 22/50\n",
            "79/79 - 0s - loss: 0.4005 - accuracy: 0.8373 - val_loss: 0.4309 - val_accuracy: 0.7992\n",
            "Epoch 23/50\n",
            "79/79 - 0s - loss: 0.4010 - accuracy: 0.8373 - val_loss: 0.4263 - val_accuracy: 0.8068\n",
            "Epoch 24/50\n",
            "79/79 - 0s - loss: 0.4007 - accuracy: 0.8389 - val_loss: 0.4257 - val_accuracy: 0.8144\n",
            "Epoch 25/50\n",
            "79/79 - 0s - loss: 0.4041 - accuracy: 0.8437 - val_loss: 0.4279 - val_accuracy: 0.8068\n",
            "Epoch 26/50\n",
            "79/79 - 0s - loss: 0.3993 - accuracy: 0.8373 - val_loss: 0.4358 - val_accuracy: 0.8030\n",
            "Epoch 27/50\n",
            "79/79 - 0s - loss: 0.4017 - accuracy: 0.8341 - val_loss: 0.4274 - val_accuracy: 0.8106\n",
            "Epoch 28/50\n",
            "79/79 - 0s - loss: 0.3976 - accuracy: 0.8373 - val_loss: 0.4275 - val_accuracy: 0.8068\n",
            "Epoch 29/50\n",
            "79/79 - 0s - loss: 0.3980 - accuracy: 0.8405 - val_loss: 0.4253 - val_accuracy: 0.8106\n",
            "Epoch 30/50\n",
            "79/79 - 0s - loss: 0.3986 - accuracy: 0.8373 - val_loss: 0.4250 - val_accuracy: 0.8106\n",
            "Epoch 31/50\n",
            "79/79 - 0s - loss: 0.3972 - accuracy: 0.8309 - val_loss: 0.4318 - val_accuracy: 0.8068\n",
            "Epoch 32/50\n",
            "79/79 - 0s - loss: 0.3964 - accuracy: 0.8405 - val_loss: 0.4253 - val_accuracy: 0.8030\n",
            "Epoch 33/50\n",
            "79/79 - 0s - loss: 0.3978 - accuracy: 0.8357 - val_loss: 0.4308 - val_accuracy: 0.8106\n",
            "Epoch 34/50\n",
            "79/79 - 0s - loss: 0.3941 - accuracy: 0.8389 - val_loss: 0.4287 - val_accuracy: 0.7992\n",
            "Epoch 35/50\n",
            "79/79 - 0s - loss: 0.3956 - accuracy: 0.8309 - val_loss: 0.4368 - val_accuracy: 0.7992\n",
            "Epoch 36/50\n",
            "79/79 - 0s - loss: 0.4042 - accuracy: 0.8293 - val_loss: 0.4247 - val_accuracy: 0.8106\n",
            "Epoch 37/50\n",
            "79/79 - 0s - loss: 0.3982 - accuracy: 0.8341 - val_loss: 0.4256 - val_accuracy: 0.8068\n",
            "Epoch 38/50\n",
            "79/79 - 0s - loss: 0.3934 - accuracy: 0.8373 - val_loss: 0.4359 - val_accuracy: 0.7992\n",
            "Epoch 39/50\n",
            "79/79 - 0s - loss: 0.3945 - accuracy: 0.8357 - val_loss: 0.4275 - val_accuracy: 0.8030\n",
            "Epoch 40/50\n",
            "79/79 - 0s - loss: 0.3930 - accuracy: 0.8357 - val_loss: 0.4253 - val_accuracy: 0.8144\n",
            "Epoch 41/50\n",
            "79/79 - 0s - loss: 0.3968 - accuracy: 0.8278 - val_loss: 0.4247 - val_accuracy: 0.8144\n",
            "Epoch 42/50\n",
            "79/79 - 0s - loss: 0.3975 - accuracy: 0.8373 - val_loss: 0.4256 - val_accuracy: 0.8030\n",
            "Epoch 43/50\n",
            "79/79 - 0s - loss: 0.3946 - accuracy: 0.8437 - val_loss: 0.4215 - val_accuracy: 0.8106\n",
            "Epoch 44/50\n",
            "79/79 - 0s - loss: 0.3927 - accuracy: 0.8421 - val_loss: 0.4234 - val_accuracy: 0.8106\n",
            "Epoch 45/50\n",
            "79/79 - 0s - loss: 0.3940 - accuracy: 0.8389 - val_loss: 0.4254 - val_accuracy: 0.8106\n",
            "Epoch 46/50\n",
            "79/79 - 0s - loss: 0.3914 - accuracy: 0.8421 - val_loss: 0.4217 - val_accuracy: 0.8030\n",
            "Epoch 47/50\n",
            "79/79 - 0s - loss: 0.3892 - accuracy: 0.8421 - val_loss: 0.4246 - val_accuracy: 0.8106\n",
            "Epoch 48/50\n",
            "79/79 - 0s - loss: 0.3884 - accuracy: 0.8437 - val_loss: 0.4259 - val_accuracy: 0.8030\n",
            "Epoch 49/50\n",
            "79/79 - 0s - loss: 0.3946 - accuracy: 0.8278 - val_loss: 0.4249 - val_accuracy: 0.8106\n",
            "Epoch 50/50\n",
            "79/79 - 0s - loss: 0.3930 - accuracy: 0.8341 - val_loss: 0.4231 - val_accuracy: 0.8068\n"
          ],
          "name": "stdout"
        },
        {
          "output_type": "execute_result",
          "data": {
            "text/plain": [
              "<tensorflow.python.keras.callbacks.History at 0x7fb827d29550>"
            ]
          },
          "metadata": {
            "tags": []
          },
          "execution_count": 29
        }
      ]
    },
    {
      "cell_type": "code",
      "metadata": {
        "id": "NB6UnMMd8Ycj",
        "outputId": "7837f275-6df2-42ea-9138-591701e913e2",
        "colab": {
          "base_uri": "https://localhost:8080/",
          "height": 34
        }
      },
      "source": [
        "scores = model.evaluate(feature_test, label_test)"
      ],
      "execution_count": 30,
      "outputs": [
        {
          "output_type": "stream",
          "text": [
            "9/9 [==============================] - 0s 1ms/step - loss: 0.4231 - accuracy: 0.8068\n"
          ],
          "name": "stdout"
        }
      ]
    },
    {
      "cell_type": "markdown",
      "metadata": {
        "id": "1iTX6XPlgSBn"
      },
      "source": [
        "Wider model"
      ]
    },
    {
      "cell_type": "code",
      "metadata": {
        "id": "nkigLkTKgTWo",
        "outputId": "e030baae-1415-4beb-9856-e5fa4c0a9e80",
        "colab": {
          "base_uri": "https://localhost:8080/",
          "height": 1000
        }
      },
      "source": [
        "wider_model = Sequential()\n",
        "wider_model.add(Dense(20, input_dim=7, kernel_initializer='normal', activation='relu'))\n",
        "wider_model.add(Dense(1, activation='sigmoid'))\n",
        "\n",
        "opt = SGD(lr=0.01, momentum=0.9)\n",
        "wider_model.compile(loss='binary_crossentropy', optimizer=opt, metrics=[ 'accuracy' ])\n",
        "\n",
        "history = wider_model.fit(x=feature_train, y=label_train, validation_data=(feature_test, label_test), epochs=100, batch_size=8)"
      ],
      "execution_count": 31,
      "outputs": [
        {
          "output_type": "stream",
          "text": [
            "Epoch 1/100\n",
            "79/79 [==============================] - 0s 2ms/step - loss: 0.5478 - accuracy: 0.7974 - val_loss: 0.4832 - val_accuracy: 0.7538\n",
            "Epoch 2/100\n",
            "79/79 [==============================] - 0s 1ms/step - loss: 0.4348 - accuracy: 0.8054 - val_loss: 0.4613 - val_accuracy: 0.7803\n",
            "Epoch 3/100\n",
            "79/79 [==============================] - 0s 1ms/step - loss: 0.4299 - accuracy: 0.8118 - val_loss: 0.4506 - val_accuracy: 0.7955\n",
            "Epoch 4/100\n",
            "79/79 [==============================] - 0s 1ms/step - loss: 0.4235 - accuracy: 0.8134 - val_loss: 0.4507 - val_accuracy: 0.7879\n",
            "Epoch 5/100\n",
            "79/79 [==============================] - 0s 1ms/step - loss: 0.4170 - accuracy: 0.8182 - val_loss: 0.4440 - val_accuracy: 0.7879\n",
            "Epoch 6/100\n",
            "79/79 [==============================] - 0s 1ms/step - loss: 0.4154 - accuracy: 0.8214 - val_loss: 0.4377 - val_accuracy: 0.7992\n",
            "Epoch 7/100\n",
            "79/79 [==============================] - 0s 1ms/step - loss: 0.4089 - accuracy: 0.8278 - val_loss: 0.4368 - val_accuracy: 0.7992\n",
            "Epoch 8/100\n",
            "79/79 [==============================] - 0s 1ms/step - loss: 0.4104 - accuracy: 0.8070 - val_loss: 0.4363 - val_accuracy: 0.8068\n",
            "Epoch 9/100\n",
            "79/79 [==============================] - 0s 1ms/step - loss: 0.4107 - accuracy: 0.8214 - val_loss: 0.4373 - val_accuracy: 0.8030\n",
            "Epoch 10/100\n",
            "79/79 [==============================] - 0s 1ms/step - loss: 0.4067 - accuracy: 0.8262 - val_loss: 0.4342 - val_accuracy: 0.8106\n",
            "Epoch 11/100\n",
            "79/79 [==============================] - 0s 1ms/step - loss: 0.4066 - accuracy: 0.8309 - val_loss: 0.4406 - val_accuracy: 0.7841\n",
            "Epoch 12/100\n",
            "79/79 [==============================] - 0s 1ms/step - loss: 0.4080 - accuracy: 0.8246 - val_loss: 0.4366 - val_accuracy: 0.8030\n",
            "Epoch 13/100\n",
            "79/79 [==============================] - 0s 1ms/step - loss: 0.4088 - accuracy: 0.8246 - val_loss: 0.4437 - val_accuracy: 0.7955\n",
            "Epoch 14/100\n",
            "79/79 [==============================] - 0s 1ms/step - loss: 0.4050 - accuracy: 0.8309 - val_loss: 0.4347 - val_accuracy: 0.8182\n",
            "Epoch 15/100\n",
            "79/79 [==============================] - 0s 1ms/step - loss: 0.4003 - accuracy: 0.8309 - val_loss: 0.4319 - val_accuracy: 0.7879\n",
            "Epoch 16/100\n",
            "79/79 [==============================] - 0s 1ms/step - loss: 0.4013 - accuracy: 0.8341 - val_loss: 0.4284 - val_accuracy: 0.8182\n",
            "Epoch 17/100\n",
            "79/79 [==============================] - 0s 1ms/step - loss: 0.4011 - accuracy: 0.8230 - val_loss: 0.4362 - val_accuracy: 0.8144\n",
            "Epoch 18/100\n",
            "79/79 [==============================] - 0s 1ms/step - loss: 0.3963 - accuracy: 0.8278 - val_loss: 0.4430 - val_accuracy: 0.7992\n",
            "Epoch 19/100\n",
            "79/79 [==============================] - 0s 1ms/step - loss: 0.4066 - accuracy: 0.8230 - val_loss: 0.4348 - val_accuracy: 0.8144\n",
            "Epoch 20/100\n",
            "79/79 [==============================] - 0s 1ms/step - loss: 0.3959 - accuracy: 0.8357 - val_loss: 0.4335 - val_accuracy: 0.7917\n",
            "Epoch 21/100\n",
            "79/79 [==============================] - 0s 1ms/step - loss: 0.3997 - accuracy: 0.8262 - val_loss: 0.4288 - val_accuracy: 0.8144\n",
            "Epoch 22/100\n",
            "79/79 [==============================] - 0s 1ms/step - loss: 0.3985 - accuracy: 0.8325 - val_loss: 0.4433 - val_accuracy: 0.7992\n",
            "Epoch 23/100\n",
            "79/79 [==============================] - 0s 1ms/step - loss: 0.4019 - accuracy: 0.8341 - val_loss: 0.4334 - val_accuracy: 0.8182\n",
            "Epoch 24/100\n",
            "79/79 [==============================] - 0s 1ms/step - loss: 0.3961 - accuracy: 0.8373 - val_loss: 0.4272 - val_accuracy: 0.8106\n",
            "Epoch 25/100\n",
            "79/79 [==============================] - 0s 1ms/step - loss: 0.3954 - accuracy: 0.8389 - val_loss: 0.4312 - val_accuracy: 0.8106\n",
            "Epoch 26/100\n",
            "79/79 [==============================] - 0s 1ms/step - loss: 0.3949 - accuracy: 0.8325 - val_loss: 0.4390 - val_accuracy: 0.8030\n",
            "Epoch 27/100\n",
            "79/79 [==============================] - 0s 1ms/step - loss: 0.3964 - accuracy: 0.8405 - val_loss: 0.4249 - val_accuracy: 0.8220\n",
            "Epoch 28/100\n",
            "79/79 [==============================] - 0s 1ms/step - loss: 0.3922 - accuracy: 0.8357 - val_loss: 0.4412 - val_accuracy: 0.8068\n",
            "Epoch 29/100\n",
            "79/79 [==============================] - 0s 1ms/step - loss: 0.3977 - accuracy: 0.8341 - val_loss: 0.4249 - val_accuracy: 0.8182\n",
            "Epoch 30/100\n",
            "79/79 [==============================] - 0s 1ms/step - loss: 0.3925 - accuracy: 0.8325 - val_loss: 0.4369 - val_accuracy: 0.8106\n",
            "Epoch 31/100\n",
            "79/79 [==============================] - 0s 1ms/step - loss: 0.3917 - accuracy: 0.8325 - val_loss: 0.4270 - val_accuracy: 0.8295\n",
            "Epoch 32/100\n",
            "79/79 [==============================] - 0s 1ms/step - loss: 0.3921 - accuracy: 0.8325 - val_loss: 0.4348 - val_accuracy: 0.8106\n",
            "Epoch 33/100\n",
            "79/79 [==============================] - 0s 1ms/step - loss: 0.3937 - accuracy: 0.8357 - val_loss: 0.4280 - val_accuracy: 0.8144\n",
            "Epoch 34/100\n",
            "79/79 [==============================] - 0s 1ms/step - loss: 0.3911 - accuracy: 0.8421 - val_loss: 0.4293 - val_accuracy: 0.8030\n",
            "Epoch 35/100\n",
            "79/79 [==============================] - 0s 1ms/step - loss: 0.3946 - accuracy: 0.8405 - val_loss: 0.4270 - val_accuracy: 0.8106\n",
            "Epoch 36/100\n",
            "79/79 [==============================] - 0s 1ms/step - loss: 0.3940 - accuracy: 0.8278 - val_loss: 0.4249 - val_accuracy: 0.8182\n",
            "Epoch 37/100\n",
            "79/79 [==============================] - 0s 1ms/step - loss: 0.3929 - accuracy: 0.8325 - val_loss: 0.4287 - val_accuracy: 0.7992\n",
            "Epoch 38/100\n",
            "79/79 [==============================] - 0s 1ms/step - loss: 0.3927 - accuracy: 0.8373 - val_loss: 0.4252 - val_accuracy: 0.8182\n",
            "Epoch 39/100\n",
            "79/79 [==============================] - 0s 1ms/step - loss: 0.3961 - accuracy: 0.8309 - val_loss: 0.4359 - val_accuracy: 0.8068\n",
            "Epoch 40/100\n",
            "79/79 [==============================] - 0s 1ms/step - loss: 0.3934 - accuracy: 0.8325 - val_loss: 0.4248 - val_accuracy: 0.8106\n",
            "Epoch 41/100\n",
            "79/79 [==============================] - 0s 1ms/step - loss: 0.3871 - accuracy: 0.8373 - val_loss: 0.4285 - val_accuracy: 0.7992\n",
            "Epoch 42/100\n",
            "79/79 [==============================] - 0s 1ms/step - loss: 0.3909 - accuracy: 0.8389 - val_loss: 0.4242 - val_accuracy: 0.8144\n",
            "Epoch 43/100\n",
            "79/79 [==============================] - 0s 1ms/step - loss: 0.3903 - accuracy: 0.8389 - val_loss: 0.4264 - val_accuracy: 0.7992\n",
            "Epoch 44/100\n",
            "79/79 [==============================] - 0s 1ms/step - loss: 0.3867 - accuracy: 0.8357 - val_loss: 0.4294 - val_accuracy: 0.8144\n",
            "Epoch 45/100\n",
            "79/79 [==============================] - 0s 1ms/step - loss: 0.3868 - accuracy: 0.8373 - val_loss: 0.4290 - val_accuracy: 0.8144\n",
            "Epoch 46/100\n",
            "79/79 [==============================] - 0s 1ms/step - loss: 0.3857 - accuracy: 0.8405 - val_loss: 0.4296 - val_accuracy: 0.8144\n",
            "Epoch 47/100\n",
            "79/79 [==============================] - 0s 1ms/step - loss: 0.3896 - accuracy: 0.8341 - val_loss: 0.4235 - val_accuracy: 0.8106\n",
            "Epoch 48/100\n",
            "79/79 [==============================] - 0s 1ms/step - loss: 0.3866 - accuracy: 0.8389 - val_loss: 0.4278 - val_accuracy: 0.8030\n",
            "Epoch 49/100\n",
            "79/79 [==============================] - 0s 1ms/step - loss: 0.3852 - accuracy: 0.8373 - val_loss: 0.4346 - val_accuracy: 0.8030\n",
            "Epoch 50/100\n",
            "79/79 [==============================] - 0s 1ms/step - loss: 0.3893 - accuracy: 0.8293 - val_loss: 0.4276 - val_accuracy: 0.8220\n",
            "Epoch 51/100\n",
            "79/79 [==============================] - 0s 1ms/step - loss: 0.3875 - accuracy: 0.8421 - val_loss: 0.4236 - val_accuracy: 0.8030\n",
            "Epoch 52/100\n",
            "79/79 [==============================] - 0s 1ms/step - loss: 0.3861 - accuracy: 0.8373 - val_loss: 0.4317 - val_accuracy: 0.7992\n",
            "Epoch 53/100\n",
            "79/79 [==============================] - 0s 1ms/step - loss: 0.3855 - accuracy: 0.8437 - val_loss: 0.4330 - val_accuracy: 0.8106\n",
            "Epoch 54/100\n",
            "79/79 [==============================] - 0s 1ms/step - loss: 0.3856 - accuracy: 0.8389 - val_loss: 0.4286 - val_accuracy: 0.8030\n",
            "Epoch 55/100\n",
            "79/79 [==============================] - 0s 1ms/step - loss: 0.3853 - accuracy: 0.8389 - val_loss: 0.4262 - val_accuracy: 0.7992\n",
            "Epoch 56/100\n",
            "79/79 [==============================] - 0s 1ms/step - loss: 0.3834 - accuracy: 0.8405 - val_loss: 0.4293 - val_accuracy: 0.7992\n",
            "Epoch 57/100\n",
            "79/79 [==============================] - 0s 1ms/step - loss: 0.3881 - accuracy: 0.8453 - val_loss: 0.4305 - val_accuracy: 0.8030\n",
            "Epoch 58/100\n",
            "79/79 [==============================] - 0s 1ms/step - loss: 0.3830 - accuracy: 0.8453 - val_loss: 0.4277 - val_accuracy: 0.8144\n",
            "Epoch 59/100\n",
            "79/79 [==============================] - 0s 1ms/step - loss: 0.3807 - accuracy: 0.8437 - val_loss: 0.4235 - val_accuracy: 0.8144\n",
            "Epoch 60/100\n",
            "79/79 [==============================] - 0s 1ms/step - loss: 0.3852 - accuracy: 0.8485 - val_loss: 0.4264 - val_accuracy: 0.8106\n",
            "Epoch 61/100\n",
            "79/79 [==============================] - 0s 1ms/step - loss: 0.3848 - accuracy: 0.8325 - val_loss: 0.4286 - val_accuracy: 0.7992\n",
            "Epoch 62/100\n",
            "79/79 [==============================] - 0s 1ms/step - loss: 0.3902 - accuracy: 0.8325 - val_loss: 0.4276 - val_accuracy: 0.8220\n",
            "Epoch 63/100\n",
            "79/79 [==============================] - 0s 1ms/step - loss: 0.3869 - accuracy: 0.8421 - val_loss: 0.4271 - val_accuracy: 0.8295\n",
            "Epoch 64/100\n",
            "79/79 [==============================] - 0s 1ms/step - loss: 0.3804 - accuracy: 0.8373 - val_loss: 0.4307 - val_accuracy: 0.8144\n",
            "Epoch 65/100\n",
            "79/79 [==============================] - 0s 1ms/step - loss: 0.3799 - accuracy: 0.8357 - val_loss: 0.4285 - val_accuracy: 0.8030\n",
            "Epoch 66/100\n",
            "79/79 [==============================] - 0s 1ms/step - loss: 0.3842 - accuracy: 0.8469 - val_loss: 0.4370 - val_accuracy: 0.8068\n",
            "Epoch 67/100\n",
            "79/79 [==============================] - 0s 1ms/step - loss: 0.3784 - accuracy: 0.8421 - val_loss: 0.4314 - val_accuracy: 0.8220\n",
            "Epoch 68/100\n",
            "79/79 [==============================] - 0s 1ms/step - loss: 0.3839 - accuracy: 0.8357 - val_loss: 0.4303 - val_accuracy: 0.8144\n",
            "Epoch 69/100\n",
            "79/79 [==============================] - 0s 1ms/step - loss: 0.3770 - accuracy: 0.8469 - val_loss: 0.4296 - val_accuracy: 0.8068\n",
            "Epoch 70/100\n",
            "79/79 [==============================] - 0s 1ms/step - loss: 0.3763 - accuracy: 0.8453 - val_loss: 0.4284 - val_accuracy: 0.8106\n",
            "Epoch 71/100\n",
            "79/79 [==============================] - 0s 1ms/step - loss: 0.3796 - accuracy: 0.8501 - val_loss: 0.4265 - val_accuracy: 0.8258\n",
            "Epoch 72/100\n",
            "79/79 [==============================] - 0s 1ms/step - loss: 0.3803 - accuracy: 0.8421 - val_loss: 0.4499 - val_accuracy: 0.7992\n",
            "Epoch 73/100\n",
            "79/79 [==============================] - 0s 1ms/step - loss: 0.3823 - accuracy: 0.8437 - val_loss: 0.4261 - val_accuracy: 0.8182\n",
            "Epoch 74/100\n",
            "79/79 [==============================] - 0s 1ms/step - loss: 0.3776 - accuracy: 0.8437 - val_loss: 0.4303 - val_accuracy: 0.8182\n",
            "Epoch 75/100\n",
            "79/79 [==============================] - 0s 1ms/step - loss: 0.3834 - accuracy: 0.8389 - val_loss: 0.4297 - val_accuracy: 0.8258\n",
            "Epoch 76/100\n",
            "79/79 [==============================] - 0s 1ms/step - loss: 0.3783 - accuracy: 0.8437 - val_loss: 0.4333 - val_accuracy: 0.8220\n",
            "Epoch 77/100\n",
            "79/79 [==============================] - 0s 1ms/step - loss: 0.3794 - accuracy: 0.8437 - val_loss: 0.4275 - val_accuracy: 0.8220\n",
            "Epoch 78/100\n",
            "79/79 [==============================] - 0s 1ms/step - loss: 0.3749 - accuracy: 0.8565 - val_loss: 0.4316 - val_accuracy: 0.8258\n",
            "Epoch 79/100\n",
            "79/79 [==============================] - 0s 2ms/step - loss: 0.3808 - accuracy: 0.8437 - val_loss: 0.4347 - val_accuracy: 0.8106\n",
            "Epoch 80/100\n",
            "79/79 [==============================] - 0s 1ms/step - loss: 0.3782 - accuracy: 0.8421 - val_loss: 0.4289 - val_accuracy: 0.8144\n",
            "Epoch 81/100\n",
            "79/79 [==============================] - 0s 1ms/step - loss: 0.3752 - accuracy: 0.8469 - val_loss: 0.4516 - val_accuracy: 0.8106\n",
            "Epoch 82/100\n",
            "79/79 [==============================] - 0s 1ms/step - loss: 0.3811 - accuracy: 0.8501 - val_loss: 0.4284 - val_accuracy: 0.8220\n",
            "Epoch 83/100\n",
            "79/79 [==============================] - 0s 1ms/step - loss: 0.3825 - accuracy: 0.8485 - val_loss: 0.4354 - val_accuracy: 0.8030\n",
            "Epoch 84/100\n",
            "79/79 [==============================] - 0s 2ms/step - loss: 0.3797 - accuracy: 0.8469 - val_loss: 0.4283 - val_accuracy: 0.8220\n",
            "Epoch 85/100\n",
            "79/79 [==============================] - 0s 1ms/step - loss: 0.3794 - accuracy: 0.8453 - val_loss: 0.4297 - val_accuracy: 0.8258\n",
            "Epoch 86/100\n",
            "79/79 [==============================] - 0s 1ms/step - loss: 0.3769 - accuracy: 0.8469 - val_loss: 0.4269 - val_accuracy: 0.8182\n",
            "Epoch 87/100\n",
            "79/79 [==============================] - 0s 1ms/step - loss: 0.3788 - accuracy: 0.8533 - val_loss: 0.4275 - val_accuracy: 0.8106\n",
            "Epoch 88/100\n",
            "79/79 [==============================] - 0s 2ms/step - loss: 0.3742 - accuracy: 0.8453 - val_loss: 0.4419 - val_accuracy: 0.8068\n",
            "Epoch 89/100\n",
            "79/79 [==============================] - 0s 1ms/step - loss: 0.3736 - accuracy: 0.8421 - val_loss: 0.4266 - val_accuracy: 0.8068\n",
            "Epoch 90/100\n",
            "79/79 [==============================] - 0s 1ms/step - loss: 0.3759 - accuracy: 0.8389 - val_loss: 0.4311 - val_accuracy: 0.8144\n",
            "Epoch 91/100\n",
            "79/79 [==============================] - 0s 2ms/step - loss: 0.3749 - accuracy: 0.8453 - val_loss: 0.4282 - val_accuracy: 0.8106\n",
            "Epoch 92/100\n",
            "79/79 [==============================] - 0s 2ms/step - loss: 0.3773 - accuracy: 0.8501 - val_loss: 0.4347 - val_accuracy: 0.8182\n",
            "Epoch 93/100\n",
            "79/79 [==============================] - 0s 1ms/step - loss: 0.3747 - accuracy: 0.8469 - val_loss: 0.4334 - val_accuracy: 0.8068\n",
            "Epoch 94/100\n",
            "79/79 [==============================] - 0s 1ms/step - loss: 0.3756 - accuracy: 0.8517 - val_loss: 0.4373 - val_accuracy: 0.8106\n",
            "Epoch 95/100\n",
            "79/79 [==============================] - 0s 1ms/step - loss: 0.3784 - accuracy: 0.8421 - val_loss: 0.4315 - val_accuracy: 0.8106\n",
            "Epoch 96/100\n",
            "79/79 [==============================] - 0s 1ms/step - loss: 0.3752 - accuracy: 0.8421 - val_loss: 0.4415 - val_accuracy: 0.8068\n",
            "Epoch 97/100\n",
            "79/79 [==============================] - 0s 1ms/step - loss: 0.3727 - accuracy: 0.8453 - val_loss: 0.4458 - val_accuracy: 0.8106\n",
            "Epoch 98/100\n",
            "79/79 [==============================] - 0s 1ms/step - loss: 0.3832 - accuracy: 0.8485 - val_loss: 0.4372 - val_accuracy: 0.8144\n",
            "Epoch 99/100\n",
            "79/79 [==============================] - 0s 1ms/step - loss: 0.3804 - accuracy: 0.8437 - val_loss: 0.4428 - val_accuracy: 0.8144\n",
            "Epoch 100/100\n",
            "79/79 [==============================] - 0s 1ms/step - loss: 0.3736 - accuracy: 0.8453 - val_loss: 0.4383 - val_accuracy: 0.8220\n"
          ],
          "name": "stdout"
        }
      ]
    },
    {
      "cell_type": "code",
      "metadata": {
        "id": "kp0-8jlP9Bp1",
        "outputId": "e157c5b7-2ebd-45c5-bc21-dfc34c943d89",
        "colab": {
          "base_uri": "https://localhost:8080/",
          "height": 34
        }
      },
      "source": [
        "scores = wider_model.evaluate(feature_test, label_test)"
      ],
      "execution_count": 33,
      "outputs": [
        {
          "output_type": "stream",
          "text": [
            "9/9 [==============================] - 0s 1ms/step - loss: 0.4383 - accuracy: 0.8220\n"
          ],
          "name": "stdout"
        }
      ]
    },
    {
      "cell_type": "code",
      "metadata": {
        "id": "J_AKOc8-iPcH"
      },
      "source": [
        "def plot_loss(history):\n",
        "  plt.plot(history.history['loss'], label='loss')\n",
        "  plt.plot(history.history['val_loss'], label='val_loss')\n",
        "  plt.xlabel('Epoch')\n",
        "  plt.ylabel('Loss (MSE)')\n",
        "  plt.legend()\n",
        "  plt.grid(True)"
      ],
      "execution_count": 34,
      "outputs": []
    },
    {
      "cell_type": "code",
      "metadata": {
        "id": "hhM70DX6iTAc",
        "outputId": "60d0159c-ea9a-4f8d-822e-b499334ece83",
        "colab": {
          "base_uri": "https://localhost:8080/",
          "height": 416
        }
      },
      "source": [
        "history_dataframe = pd.DataFrame(history.history)\n",
        "history_dataframe['epoch'] = history.epoch\n",
        "history_dataframe"
      ],
      "execution_count": 35,
      "outputs": [
        {
          "output_type": "execute_result",
          "data": {
            "text/html": [
              "<div>\n",
              "<style scoped>\n",
              "    .dataframe tbody tr th:only-of-type {\n",
              "        vertical-align: middle;\n",
              "    }\n",
              "\n",
              "    .dataframe tbody tr th {\n",
              "        vertical-align: top;\n",
              "    }\n",
              "\n",
              "    .dataframe thead th {\n",
              "        text-align: right;\n",
              "    }\n",
              "</style>\n",
              "<table border=\"1\" class=\"dataframe\">\n",
              "  <thead>\n",
              "    <tr style=\"text-align: right;\">\n",
              "      <th></th>\n",
              "      <th>loss</th>\n",
              "      <th>accuracy</th>\n",
              "      <th>val_loss</th>\n",
              "      <th>val_accuracy</th>\n",
              "      <th>epoch</th>\n",
              "    </tr>\n",
              "  </thead>\n",
              "  <tbody>\n",
              "    <tr>\n",
              "      <th>0</th>\n",
              "      <td>0.547782</td>\n",
              "      <td>0.797448</td>\n",
              "      <td>0.483236</td>\n",
              "      <td>0.753788</td>\n",
              "      <td>0</td>\n",
              "    </tr>\n",
              "    <tr>\n",
              "      <th>1</th>\n",
              "      <td>0.434764</td>\n",
              "      <td>0.805423</td>\n",
              "      <td>0.461296</td>\n",
              "      <td>0.780303</td>\n",
              "      <td>1</td>\n",
              "    </tr>\n",
              "    <tr>\n",
              "      <th>2</th>\n",
              "      <td>0.429861</td>\n",
              "      <td>0.811802</td>\n",
              "      <td>0.450559</td>\n",
              "      <td>0.795455</td>\n",
              "      <td>2</td>\n",
              "    </tr>\n",
              "    <tr>\n",
              "      <th>3</th>\n",
              "      <td>0.423521</td>\n",
              "      <td>0.813397</td>\n",
              "      <td>0.450713</td>\n",
              "      <td>0.787879</td>\n",
              "      <td>3</td>\n",
              "    </tr>\n",
              "    <tr>\n",
              "      <th>4</th>\n",
              "      <td>0.417007</td>\n",
              "      <td>0.818182</td>\n",
              "      <td>0.443993</td>\n",
              "      <td>0.787879</td>\n",
              "      <td>4</td>\n",
              "    </tr>\n",
              "    <tr>\n",
              "      <th>...</th>\n",
              "      <td>...</td>\n",
              "      <td>...</td>\n",
              "      <td>...</td>\n",
              "      <td>...</td>\n",
              "      <td>...</td>\n",
              "    </tr>\n",
              "    <tr>\n",
              "      <th>95</th>\n",
              "      <td>0.375166</td>\n",
              "      <td>0.842105</td>\n",
              "      <td>0.441508</td>\n",
              "      <td>0.806818</td>\n",
              "      <td>95</td>\n",
              "    </tr>\n",
              "    <tr>\n",
              "      <th>96</th>\n",
              "      <td>0.372748</td>\n",
              "      <td>0.845295</td>\n",
              "      <td>0.445831</td>\n",
              "      <td>0.810606</td>\n",
              "      <td>96</td>\n",
              "    </tr>\n",
              "    <tr>\n",
              "      <th>97</th>\n",
              "      <td>0.383212</td>\n",
              "      <td>0.848485</td>\n",
              "      <td>0.437226</td>\n",
              "      <td>0.814394</td>\n",
              "      <td>97</td>\n",
              "    </tr>\n",
              "    <tr>\n",
              "      <th>98</th>\n",
              "      <td>0.380383</td>\n",
              "      <td>0.843700</td>\n",
              "      <td>0.442795</td>\n",
              "      <td>0.814394</td>\n",
              "      <td>98</td>\n",
              "    </tr>\n",
              "    <tr>\n",
              "      <th>99</th>\n",
              "      <td>0.373620</td>\n",
              "      <td>0.845295</td>\n",
              "      <td>0.438316</td>\n",
              "      <td>0.821970</td>\n",
              "      <td>99</td>\n",
              "    </tr>\n",
              "  </tbody>\n",
              "</table>\n",
              "<p>100 rows × 5 columns</p>\n",
              "</div>"
            ],
            "text/plain": [
              "        loss  accuracy  val_loss  val_accuracy  epoch\n",
              "0   0.547782  0.797448  0.483236      0.753788      0\n",
              "1   0.434764  0.805423  0.461296      0.780303      1\n",
              "2   0.429861  0.811802  0.450559      0.795455      2\n",
              "3   0.423521  0.813397  0.450713      0.787879      3\n",
              "4   0.417007  0.818182  0.443993      0.787879      4\n",
              "..       ...       ...       ...           ...    ...\n",
              "95  0.375166  0.842105  0.441508      0.806818     95\n",
              "96  0.372748  0.845295  0.445831      0.810606     96\n",
              "97  0.383212  0.848485  0.437226      0.814394     97\n",
              "98  0.380383  0.843700  0.442795      0.814394     98\n",
              "99  0.373620  0.845295  0.438316      0.821970     99\n",
              "\n",
              "[100 rows x 5 columns]"
            ]
          },
          "metadata": {
            "tags": []
          },
          "execution_count": 35
        }
      ]
    },
    {
      "cell_type": "code",
      "metadata": {
        "id": "unZm2PiliS_K",
        "outputId": "2c8b3091-0483-4c8b-93ed-5a92d5ea4097",
        "colab": {
          "base_uri": "https://localhost:8080/",
          "height": 416
        }
      },
      "source": [
        "history_dataframe.sort_values(by='val_loss', ascending=True)"
      ],
      "execution_count": 36,
      "outputs": [
        {
          "output_type": "execute_result",
          "data": {
            "text/html": [
              "<div>\n",
              "<style scoped>\n",
              "    .dataframe tbody tr th:only-of-type {\n",
              "        vertical-align: middle;\n",
              "    }\n",
              "\n",
              "    .dataframe tbody tr th {\n",
              "        vertical-align: top;\n",
              "    }\n",
              "\n",
              "    .dataframe thead th {\n",
              "        text-align: right;\n",
              "    }\n",
              "</style>\n",
              "<table border=\"1\" class=\"dataframe\">\n",
              "  <thead>\n",
              "    <tr style=\"text-align: right;\">\n",
              "      <th></th>\n",
              "      <th>loss</th>\n",
              "      <th>accuracy</th>\n",
              "      <th>val_loss</th>\n",
              "      <th>val_accuracy</th>\n",
              "      <th>epoch</th>\n",
              "    </tr>\n",
              "  </thead>\n",
              "  <tbody>\n",
              "    <tr>\n",
              "      <th>46</th>\n",
              "      <td>0.389570</td>\n",
              "      <td>0.834131</td>\n",
              "      <td>0.423465</td>\n",
              "      <td>0.810606</td>\n",
              "      <td>46</td>\n",
              "    </tr>\n",
              "    <tr>\n",
              "      <th>58</th>\n",
              "      <td>0.380732</td>\n",
              "      <td>0.843700</td>\n",
              "      <td>0.423476</td>\n",
              "      <td>0.814394</td>\n",
              "      <td>58</td>\n",
              "    </tr>\n",
              "    <tr>\n",
              "      <th>50</th>\n",
              "      <td>0.387452</td>\n",
              "      <td>0.842105</td>\n",
              "      <td>0.423603</td>\n",
              "      <td>0.803030</td>\n",
              "      <td>50</td>\n",
              "    </tr>\n",
              "    <tr>\n",
              "      <th>41</th>\n",
              "      <td>0.390867</td>\n",
              "      <td>0.838915</td>\n",
              "      <td>0.424171</td>\n",
              "      <td>0.814394</td>\n",
              "      <td>41</td>\n",
              "    </tr>\n",
              "    <tr>\n",
              "      <th>39</th>\n",
              "      <td>0.393391</td>\n",
              "      <td>0.832536</td>\n",
              "      <td>0.424825</td>\n",
              "      <td>0.810606</td>\n",
              "      <td>39</td>\n",
              "    </tr>\n",
              "    <tr>\n",
              "      <th>...</th>\n",
              "      <td>...</td>\n",
              "      <td>...</td>\n",
              "      <td>...</td>\n",
              "      <td>...</td>\n",
              "      <td>...</td>\n",
              "    </tr>\n",
              "    <tr>\n",
              "      <th>2</th>\n",
              "      <td>0.429861</td>\n",
              "      <td>0.811802</td>\n",
              "      <td>0.450559</td>\n",
              "      <td>0.795455</td>\n",
              "      <td>2</td>\n",
              "    </tr>\n",
              "    <tr>\n",
              "      <th>3</th>\n",
              "      <td>0.423521</td>\n",
              "      <td>0.813397</td>\n",
              "      <td>0.450713</td>\n",
              "      <td>0.787879</td>\n",
              "      <td>3</td>\n",
              "    </tr>\n",
              "    <tr>\n",
              "      <th>80</th>\n",
              "      <td>0.375176</td>\n",
              "      <td>0.846890</td>\n",
              "      <td>0.451639</td>\n",
              "      <td>0.810606</td>\n",
              "      <td>80</td>\n",
              "    </tr>\n",
              "    <tr>\n",
              "      <th>1</th>\n",
              "      <td>0.434764</td>\n",
              "      <td>0.805423</td>\n",
              "      <td>0.461296</td>\n",
              "      <td>0.780303</td>\n",
              "      <td>1</td>\n",
              "    </tr>\n",
              "    <tr>\n",
              "      <th>0</th>\n",
              "      <td>0.547782</td>\n",
              "      <td>0.797448</td>\n",
              "      <td>0.483236</td>\n",
              "      <td>0.753788</td>\n",
              "      <td>0</td>\n",
              "    </tr>\n",
              "  </tbody>\n",
              "</table>\n",
              "<p>100 rows × 5 columns</p>\n",
              "</div>"
            ],
            "text/plain": [
              "        loss  accuracy  val_loss  val_accuracy  epoch\n",
              "46  0.389570  0.834131  0.423465      0.810606     46\n",
              "58  0.380732  0.843700  0.423476      0.814394     58\n",
              "50  0.387452  0.842105  0.423603      0.803030     50\n",
              "41  0.390867  0.838915  0.424171      0.814394     41\n",
              "39  0.393391  0.832536  0.424825      0.810606     39\n",
              "..       ...       ...       ...           ...    ...\n",
              "2   0.429861  0.811802  0.450559      0.795455      2\n",
              "3   0.423521  0.813397  0.450713      0.787879      3\n",
              "80  0.375176  0.846890  0.451639      0.810606     80\n",
              "1   0.434764  0.805423  0.461296      0.780303      1\n",
              "0   0.547782  0.797448  0.483236      0.753788      0\n",
              "\n",
              "[100 rows x 5 columns]"
            ]
          },
          "metadata": {
            "tags": []
          },
          "execution_count": 36
        }
      ]
    },
    {
      "cell_type": "code",
      "metadata": {
        "id": "-zLs_sysiXBx",
        "outputId": "90ccbf82-a9fb-4fd5-f73d-0efafa7c0e21",
        "colab": {
          "base_uri": "https://localhost:8080/",
          "height": 278
        }
      },
      "source": [
        "plot_loss(history) # epoch vs loss graph"
      ],
      "execution_count": 37,
      "outputs": [
        {
          "output_type": "display_data",
          "data": {
            "image/png": "[encoded data removed]",
            "text/plain": [
              "<Figure size 432x288 with 1 Axes>"
            ]
          },
          "metadata": {
            "tags": [],
            "needs_background": "light"
          }
        }
      ]
    },
    {
      "cell_type": "markdown",
      "metadata": {
        "id": "CsHgvqh6iftG"
      },
      "source": [
        "Akurasi tertinggi didapatkan pada wider model yaitu 81.06% dengan nilai val_loss terkecil 0.423\n",
        "\n",
        "---\n",
        "\n"
      ]
    }
  ]
}